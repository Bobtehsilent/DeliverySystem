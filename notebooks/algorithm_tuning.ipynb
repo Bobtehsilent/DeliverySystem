{
 "cells": [
  {
   "cell_type": "code",
   "execution_count": 1,
   "metadata": {},
   "outputs": [
    {
     "name": "stdout",
     "output_type": "stream",
     "text": [
      "Imports lyckades!\n"
     ]
    }
   ],
   "source": [
    "import os\n",
    "import sys\n",
    "\n",
    "# Sätt base_dir (projektets rotkatalog)\n",
    "base_dir = os.path.abspath(\"..\")  # En nivå upp från notebooks/\n",
    "sys.path.append(base_dir)  # Lägg till base_dir i sys.path\n",
    "\n",
    "# Nu fungerar importerna\n",
    "from src.objects.optimizer import Optimizer\n",
    "from src.objects.package import Package\n",
    "from src.data_processing import load_data\n",
    "import pandas as pd\n",
    "\n",
    "lagerstatus = os.path.join(base_dir, \"data\", \"lagerstatus.csv\")\n",
    "\n",
    "# Kontrollera att imports fungerar\n",
    "print(\"Imports lyckades!\")"
   ]
  },
  {
   "cell_type": "code",
   "execution_count": 2,
   "metadata": {},
   "outputs": [
    {
     "name": "stdout",
     "output_type": "stream",
     "text": [
      "Testdata skapad! 10000\n"
     ]
    }
   ],
   "source": [
    "log_file = os.path.join(base_dir, \"logs\", \"optimization.log\")\n",
    "\n",
    "# Rensa tidigare loggar\n",
    "if os.path.exists(log_file):\n",
    "    os.remove(log_file)\n",
    "\n",
    "# Skapa testdataset\n",
    "packages = load_data(lagerstatus)\n",
    "\n",
    "print(f\"Testdata skapad! {len(packages)}\")\n",
    "\n"
   ]
  },
  {
   "cell_type": "code",
   "execution_count": 3,
   "metadata": {},
   "outputs": [
    {
     "name": "stdout",
     "output_type": "stream",
     "text": [
      "Total remaining packages in storage: 7799\n",
      "\n",
      "--- Resultat för Optimering ---\n",
      "Truck(Truck_1, Total Weight: 799.2, Packages: 385)\n",
      "Truck(Truck_2, Total Weight: 799.8000000000014, Packages: 269)\n",
      "Truck(Truck_3, Total Weight: 799.6000000000001, Packages: 231)\n",
      "Truck(Truck_4, Total Weight: 798.7999999999993, Packages: 214)\n",
      "Truck(Truck_5, Total Weight: 799.9999999999993, Packages: 200)\n",
      "Truck(Truck_6, Total Weight: 799.1, Packages: 195)\n",
      "Truck(Truck_7, Total Weight: 799.8999999999992, Packages: 186)\n",
      "Truck(Truck_8, Total Weight: 799.3000000000012, Packages: 179)\n",
      "Truck(Truck_9, Total Weight: 799.3999999999985, Packages: 175)\n",
      "Truck(Truck_10, Total Weight: 799.8999999999992, Packages: 167)\n",
      "\n",
      "Totalt antal paket kvar i lager: 7799\n",
      "Total Förtjänst (levererade paket): 14660.0\n",
      "Totala Straffavgifter: -1484.0\n",
      "Använda bilar: 10\n"
     ]
    }
   ],
   "source": [
    "# Originalmetod: Ingen optimering, bara lista paketen\n",
    "optimizer = Optimizer(packages, max_trucks=10, max_capacity=800)\n",
    "optimizer.distribute_packages()\n",
    "optimizer.display_results()\n",
    "optimizer.reset()\n"
   ]
  },
  {
   "cell_type": "code",
   "execution_count": 4,
   "metadata": {},
   "outputs": [
    {
     "name": "stdout",
     "output_type": "stream",
     "text": [
      "\n",
      "--- Resultat för Optimering ---\n",
      "Truck(Truck_1, Total Weight: 799.2, Packages: 385)\n",
      "Truck(Truck_2, Total Weight: 799.8000000000014, Packages: 269)\n",
      "Truck(Truck_3, Total Weight: 799.6000000000001, Packages: 231)\n",
      "Truck(Truck_4, Total Weight: 798.7999999999993, Packages: 214)\n",
      "Truck(Truck_5, Total Weight: 799.9999999999993, Packages: 200)\n",
      "Truck(Truck_6, Total Weight: 799.1, Packages: 195)\n",
      "Truck(Truck_7, Total Weight: 799.8999999999992, Packages: 186)\n",
      "Truck(Truck_8, Total Weight: 799.3000000000012, Packages: 179)\n",
      "Truck(Truck_9, Total Weight: 799.3999999999985, Packages: 175)\n",
      "Truck(Truck_10, Total Weight: 799.8999999999992, Packages: 167)\n",
      "\n",
      "Totalt antal paket kvar i lager: 7799\n",
      "Total Förtjänst (levererade paket): 14660.0\n",
      "Totala Straffavgifter: -1484.0\n",
      "Använda bilar: 10\n"
     ]
    }
   ],
   "source": [
    "# Greedy Optimering\n",
    "optimizer_greedy = Optimizer(packages, max_trucks=10, max_capacity=800, log_file=log_file)\n",
    "optimizer_greedy.greedy_optimization()\n",
    "optimizer_greedy.display_results()\n",
    "optimizer_greedy.reset()\n"
   ]
  },
  {
   "cell_type": "code",
   "execution_count": 5,
   "metadata": {},
   "outputs": [
    {
     "name": "stdout",
     "output_type": "stream",
     "text": [
      "Generation: 1, Best Fitness: 2216394.0, Population Size: 15\n",
      "Generation: 10, Best Fitness: 2216394.0, Population Size: 15\n",
      "Generation: 20, Best Fitness: 2215392.0, Population Size: 15\n",
      "Generation: 30, Best Fitness: 2212370.0, Population Size: 15\n",
      "Generation: 40, Best Fitness: 2211352.0, Population Size: 15\n",
      "Generation: 50, Best Fitness: 2214367.0, Population Size: 15\n",
      "Generation: 60, Best Fitness: 2212353.0, Population Size: 15\n",
      "Generation: 70, Best Fitness: 2211340.0, Population Size: 15\n",
      "Generation: 80, Best Fitness: 2210335.0, Population Size: 15\n",
      "Generation: 90, Best Fitness: 2205296.0, Population Size: 15\n",
      "Generation: 100, Best Fitness: 2205296.0, Population Size: 15\n",
      "Package Package(4230365328.0, Weight: 1.4, Profit: 2.0, Deadline: 4.0) not found in remaining_packages!\n",
      "Package Package(4230365648.0, Weight: 1.9, Profit: 3.0, Deadline: 2.0) not found in remaining_packages!\n",
      "Package Package(4230365328.0, Weight: 1.4, Profit: 2.0, Deadline: 4.0) not found in remaining_packages!\n",
      "\n",
      "--- Resultat för Optimering ---\n",
      "Truck(Truck_1, Total Weight: 799.4000000000003, Packages: 385)\n",
      "Truck(Truck_2, Total Weight: 797.9000000000007, Packages: 269)\n",
      "Truck(Truck_3, Total Weight: 783.3999999999999, Packages: 226)\n",
      "Truck(Truck_4, Total Weight: 798.8000000000001, Packages: 215)\n",
      "Truck(Truck_5, Total Weight: 788.6999999999997, Packages: 198)\n",
      "Truck(Truck_6, Total Weight: 797.0000000000001, Packages: 195)\n",
      "Truck(Truck_7, Total Weight: 781.4999999999993, Packages: 182)\n",
      "Truck(Truck_8, Total Weight: 799.6000000000004, Packages: 180)\n",
      "Truck(Truck_9, Total Weight: 796.7999999999988, Packages: 175)\n",
      "Truck(Truck_10, Total Weight: 788.8999999999995, Packages: 164)\n",
      "\n",
      "Totalt antal paket kvar i lager: 7814\n",
      "Total Förtjänst (levererade paket): 14560.0\n",
      "Totala Straffavgifter: -1121.0\n",
      "Använda bilar: 10\n",
      "\n",
      "--- Resultat för Optimering ---\n",
      "Truck(Truck_1, Total Weight: 799.4000000000003, Packages: 385)\n",
      "Truck(Truck_2, Total Weight: 797.9000000000007, Packages: 269)\n",
      "Truck(Truck_3, Total Weight: 783.3999999999999, Packages: 226)\n",
      "Truck(Truck_4, Total Weight: 798.8000000000001, Packages: 215)\n",
      "Truck(Truck_5, Total Weight: 788.6999999999997, Packages: 198)\n",
      "Truck(Truck_6, Total Weight: 797.0000000000001, Packages: 195)\n",
      "Truck(Truck_7, Total Weight: 781.4999999999993, Packages: 182)\n",
      "Truck(Truck_8, Total Weight: 799.6000000000004, Packages: 180)\n",
      "Truck(Truck_9, Total Weight: 796.7999999999988, Packages: 175)\n",
      "Truck(Truck_10, Total Weight: 788.8999999999995, Packages: 164)\n",
      "\n",
      "Totalt antal paket kvar i lager: 7814\n",
      "Total Förtjänst (levererade paket): 14560.0\n",
      "Totala Straffavgifter: -1484.0\n",
      "Använda bilar: 10\n"
     ]
    }
   ],
   "source": [
    "# Genetisk Algoritm\n",
    "optimizer_genetic = Optimizer(packages, max_trucks=10, max_capacity=800, log_file=log_file)\n",
    "optimizer_genetic.reset()\n",
    "optimizer_genetic.genetic_optimization(population_size=15, generations=100, mutation_rate=0.1)\n"
   ]
  },
  {
   "cell_type": "code",
   "execution_count": null,
   "metadata": {},
   "outputs": [
    {
     "name": "stdout",
     "output_type": "stream",
     "text": [
      "Generation: 1, Best Fitness: 2216394.0, Population Size: 10\n",
      "Generation: 10, Best Fitness: 2216394.0, Population Size: 10\n",
      "Generation: 20, Best Fitness: 2213376.0, Population Size: 10\n",
      "Generation: 30, Best Fitness: 2212373.0, Population Size: 10\n",
      "Generation: 40, Best Fitness: 2210365.0, Population Size: 10\n",
      "Generation: 50, Best Fitness: 2211367.0, Population Size: 10\n",
      "Package Package(4230365328.0, Weight: 1.4, Profit: 2.0, Deadline: 4.0) not found in remaining_packages!\n",
      "\n",
      "--- Resultat för Optimering ---\n",
      "Truck(Truck_1, Total Weight: 799.2, Packages: 385)\n",
      "Truck(Truck_2, Total Weight: 799.8000000000012, Packages: 269)\n",
      "Truck(Truck_3, Total Weight: 797.4999999999998, Packages: 230)\n",
      "Truck(Truck_4, Total Weight: 790.0999999999992, Packages: 212)\n",
      "Truck(Truck_5, Total Weight: 799.5999999999996, Packages: 200)\n",
      "Truck(Truck_6, Total Weight: 798.6000000000001, Packages: 195)\n",
      "Truck(Truck_7, Total Weight: 798.6999999999996, Packages: 185)\n",
      "Truck(Truck_8, Total Weight: 796.5000000000008, Packages: 178)\n",
      "Truck(Truck_9, Total Weight: 799.3999999999988, Packages: 175)\n",
      "Truck(Truck_10, Total Weight: 799.8999999999993, Packages: 167)\n",
      "\n",
      "Totalt antal paket kvar i lager: 7805\n",
      "Total Förtjänst (levererade paket): 14635.0\n",
      "Totala Straffavgifter: -1118.0\n",
      "Använda bilar: 10\n",
      "\n",
      "--- Resultat för Optimering ---\n",
      "Truck(Truck_1, Total Weight: 799.2, Packages: 385)\n",
      "Truck(Truck_2, Total Weight: 799.8000000000012, Packages: 269)\n",
      "Truck(Truck_3, Total Weight: 797.4999999999998, Packages: 230)\n",
      "Truck(Truck_4, Total Weight: 790.0999999999992, Packages: 212)\n",
      "Truck(Truck_5, Total Weight: 799.5999999999996, Packages: 200)\n",
      "Truck(Truck_6, Total Weight: 798.6000000000001, Packages: 195)\n",
      "Truck(Truck_7, Total Weight: 798.6999999999996, Packages: 185)\n",
      "Truck(Truck_8, Total Weight: 796.5000000000008, Packages: 178)\n",
      "Truck(Truck_9, Total Weight: 799.3999999999988, Packages: 175)\n",
      "Truck(Truck_10, Total Weight: 799.8999999999993, Packages: 167)\n",
      "\n",
      "Totalt antal paket kvar i lager: 7805\n",
      "Total Förtjänst (levererade paket): 14635.0\n",
      "Totala Straffavgifter: -1484.0\n",
      "Använda bilar: 10\n"
     ]
    }
   ],
   "source": [
    "# Greedy + Genetisk Algoritm\n",
    "optimizer_combined = Optimizer(packages, max_trucks=10, max_capacity=800, log_file=log_file)\n",
    "optimizer_combined.greedy_optimization()  # Börja med greedy\n",
    "optimizer_combined.genetic_optimization(population_size=10, generations=50, mutation_rate=0.1)  # Förbättra\n"
   ]
  },
  {
   "cell_type": "code",
   "execution_count": 7,
   "metadata": {},
   "outputs": [
    {
     "name": "stdout",
     "output_type": "stream",
     "text": [
      "Fel vid bearbetning av rad: Method: Greedy, Iteration: 0, Fitness Score: N/A, Total Profit: 14660.0, Delivered Packages: 2201, Remaining Packages: 7799, Used Trucks: 10\n",
      ", fel: invalid literal for int() with base 10: 'Greedy'\n",
      "Fel vid bearbetning av rad: Method: Genetic, Iteration: 1, Fitness Score: 2216394.0, Total Profit: 15027.0, Delivered Packages: 2201, Remaining Packages: 7799, Used Trucks: 10\n",
      ", fel: invalid literal for int() with base 10: 'Genetic'\n",
      "Fel vid bearbetning av rad: Method: Genetic, Iteration: 10, Fitness Score: 2216394.0, Total Profit: 15025.0, Delivered Packages: 2200, Remaining Packages: 7800, Used Trucks: 10\n",
      ", fel: invalid literal for int() with base 10: 'Genetic'\n",
      "Fel vid bearbetning av rad: Method: Genetic, Iteration: 20, Fitness Score: 2215392.0, Total Profit: 15025.0, Delivered Packages: 2200, Remaining Packages: 7800, Used Trucks: 10\n",
      ", fel: invalid literal for int() with base 10: 'Genetic'\n",
      "Fel vid bearbetning av rad: Method: Genetic, Iteration: 30, Fitness Score: 2212370.0, Total Profit: 15000.0, Delivered Packages: 2196, Remaining Packages: 7804, Used Trucks: 10\n",
      ", fel: invalid literal for int() with base 10: 'Genetic'\n",
      "Fel vid bearbetning av rad: Method: Genetic, Iteration: 40, Fitness Score: 2211352.0, Total Profit: 14993.0, Delivered Packages: 2197, Remaining Packages: 7803, Used Trucks: 10\n",
      ", fel: invalid literal for int() with base 10: 'Genetic'\n",
      "Fel vid bearbetning av rad: Method: Genetic, Iteration: 50, Fitness Score: 2214367.0, Total Profit: 15001.0, Delivered Packages: 2198, Remaining Packages: 7802, Used Trucks: 10\n",
      ", fel: invalid literal for int() with base 10: 'Genetic'\n",
      "Fel vid bearbetning av rad: Method: Genetic, Iteration: 60, Fitness Score: 2212353.0, Total Profit: 14988.0, Delivered Packages: 2197, Remaining Packages: 7803, Used Trucks: 10\n",
      ", fel: invalid literal for int() with base 10: 'Genetic'\n",
      "Fel vid bearbetning av rad: Method: Genetic, Iteration: 70, Fitness Score: 2211340.0, Total Profit: 14967.0, Delivered Packages: 2195, Remaining Packages: 7805, Used Trucks: 10\n",
      ", fel: invalid literal for int() with base 10: 'Genetic'\n",
      "Fel vid bearbetning av rad: Method: Genetic, Iteration: 80, Fitness Score: 2210335.0, Total Profit: 14970.0, Delivered Packages: 2195, Remaining Packages: 7805, Used Trucks: 10\n",
      ", fel: invalid literal for int() with base 10: 'Genetic'\n",
      "Fel vid bearbetning av rad: Method: Genetic, Iteration: 90, Fitness Score: 2205296.0, Total Profit: 14929.0, Delivered Packages: 2190, Remaining Packages: 7810, Used Trucks: 10\n",
      ", fel: invalid literal for int() with base 10: 'Genetic'\n",
      "Fel vid bearbetning av rad: Method: Genetic, Iteration: 100, Fitness Score: 2205296.0, Total Profit: 14923.0, Delivered Packages: 2189, Remaining Packages: 7811, Used Trucks: 10\n",
      ", fel: invalid literal for int() with base 10: 'Genetic'\n",
      "Fel vid bearbetning av rad: Method: Greedy, Iteration: 0, Fitness Score: N/A, Total Profit: 14660.0, Delivered Packages: 2201, Remaining Packages: 7799, Used Trucks: 10\n",
      ", fel: invalid literal for int() with base 10: 'Greedy'\n",
      "Fel vid bearbetning av rad: Method: Genetic, Iteration: 1, Fitness Score: 2216394.0, Total Profit: 15027.0, Delivered Packages: 2201, Remaining Packages: 7799, Used Trucks: 10\n",
      ", fel: invalid literal for int() with base 10: 'Genetic'\n",
      "Fel vid bearbetning av rad: Method: Genetic, Iteration: 10, Fitness Score: 2216394.0, Total Profit: 15027.0, Delivered Packages: 2201, Remaining Packages: 7799, Used Trucks: 10\n",
      ", fel: invalid literal for int() with base 10: 'Genetic'\n",
      "Fel vid bearbetning av rad: Method: Genetic, Iteration: 20, Fitness Score: 2213376.0, Total Profit: 15010.0, Delivered Packages: 2198, Remaining Packages: 7802, Used Trucks: 10\n",
      ", fel: invalid literal for int() with base 10: 'Genetic'\n",
      "Fel vid bearbetning av rad: Method: Genetic, Iteration: 30, Fitness Score: 2212373.0, Total Profit: 15007.0, Delivered Packages: 2197, Remaining Packages: 7803, Used Trucks: 10\n",
      ", fel: invalid literal for int() with base 10: 'Genetic'\n",
      "Fel vid bearbetning av rad: Method: Genetic, Iteration: 40, Fitness Score: 2210365.0, Total Profit: 14999.0, Delivered Packages: 2195, Remaining Packages: 7805, Used Trucks: 10\n",
      ", fel: invalid literal for int() with base 10: 'Genetic'\n",
      "Fel vid bearbetning av rad: Method: Genetic, Iteration: 50, Fitness Score: 2211367.0, Total Profit: 15001.0, Delivered Packages: 2196, Remaining Packages: 7804, Used Trucks: 10\n",
      ", fel: invalid literal for int() with base 10: 'Genetic'\n",
      "Inga data kunde läsas från loggfilen.\n"
     ]
    }
   ],
   "source": [
    "# Läs loggfilen\n",
    "log_data = []\n",
    "with open(log_file, \"r\") as log:\n",
    "    for line in log:\n",
    "        if \"Iteration\" in line:\n",
    "            try:\n",
    "                parts = line.strip().split(\", \")\n",
    "                iteration = int(parts[0].split(\": \")[1])\n",
    "                fitness_score = parts[1].split(\": \")[1]\n",
    "                fitness_score = float(fitness_score) if fitness_score != \"N/A\" else None\n",
    "                score = float(parts[2].split(\": \")[1])\n",
    "                total_profit = float(parts[3].split(\": \")[1])\n",
    "                total_penalty = float(parts[4].split(\": \")[1])\n",
    "                remaining_packages = int(parts[5].split(\": \")[1])\n",
    "                used_trucks = int(parts[6].split(\": \")[1])\n",
    "                log_data.append((iteration, fitness_score, score, total_profit, total_penalty, remaining_packages, used_trucks))\n",
    "            except (IndexError, ValueError) as e:\n",
    "                print(f\"Fel vid bearbetning av rad: {line}, fel: {e}\")\n",
    "\n",
    "# Skapa DataFrame för analys\n",
    "if not log_data:\n",
    "    print(\"Inga data kunde läsas från loggfilen.\")\n",
    "else:\n",
    "    df_logs = pd.DataFrame(\n",
    "        log_data,\n",
    "        columns=[\"Iteration\", \"Fitness Score\", \"Score\", \"Total Profit\", \"Total Penalty\", \"Remaining Packages\", \"Used Trucks\"]\n",
    "    )\n",
    "\n",
    "    # Visualisera förbättringar\n",
    "    import matplotlib.pyplot as plt\n",
    "\n",
    "    plt.figure(figsize=(10, 6))\n",
    "    plt.plot(df_logs[\"Iteration\"], df_logs[\"Score\"], label=\"Score (Net Profit)\")\n",
    "    plt.plot(df_logs[\"Iteration\"], df_logs[\"Fitness Score\"], label=\"Fitness Score\", linestyle=\"--\")\n",
    "    plt.xlabel(\"Iteration\")\n",
    "    plt.ylabel(\"Value\")\n",
    "    plt.title(\"Förbättringar med Optimeringsalgoritmer\")\n",
    "    plt.legend()\n",
    "    plt.grid()\n",
    "    plt.show()\n"
   ]
  },
  {
   "cell_type": "code",
   "execution_count": 8,
   "metadata": {},
   "outputs": [
    {
     "name": "stdout",
     "output_type": "stream",
     "text": [
      "Total Profit in lagerstatus.csv: 6236.120000000001\n"
     ]
    }
   ],
   "source": [
    "# Load the lagerstatus.csv file into a DataFrame\n",
    "df_lagerstatus = pd.read_csv(lagerstatus)\n",
    "\n",
    "# Calculate the total profit\n",
    "total_profit_lagerstatus = df_lagerstatus['Vikt'].sum() / 10\n",
    "\n",
    "print(f\"Total Profit in lagerstatus.csv: {total_profit_lagerstatus}\")"
   ]
  }
 ],
 "metadata": {
  "kernelspec": {
   "display_name": "venv",
   "language": "python",
   "name": "python3"
  },
  "language_info": {
   "codemirror_mode": {
    "name": "ipython",
    "version": 3
   },
   "file_extension": ".py",
   "mimetype": "text/x-python",
   "name": "python",
   "nbconvert_exporter": "python",
   "pygments_lexer": "ipython3",
   "version": "3.11.9"
  }
 },
 "nbformat": 4,
 "nbformat_minor": 2
}
