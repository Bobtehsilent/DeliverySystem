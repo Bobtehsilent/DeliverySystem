{
 "cells": [
  {
   "cell_type": "code",
   "execution_count": 6,
   "metadata": {},
   "outputs": [
    {
     "name": "stdout",
     "output_type": "stream",
     "text": [
      "Läser in fil från: c:\\Users\\Jocke\\Documents\\Coding\\DeliverySystem\\data\\lagerstatus.csv\n",
      "<class 'pandas.core.frame.DataFrame'>\n",
      "RangeIndex: 500 entries, 0 to 499\n",
      "Data columns (total 4 columns):\n",
      " #   Column     Non-Null Count  Dtype  \n",
      "---  ------     --------------  -----  \n",
      " 0   paket_id   500 non-null    int64  \n",
      " 1   vikt       500 non-null    float64\n",
      " 2   fortjanst  500 non-null    int64  \n",
      " 3   deadline   500 non-null    int64  \n",
      "dtypes: float64(1), int64(3)\n",
      "memory usage: 15.8 KB\n"
     ]
    }
   ],
   "source": [
    "import pandas as pd\n",
    "import os\n",
    "\n",
    "# Basera sökvägen på överordnad katalog\n",
    "base_dir = os.path.dirname(os.path.dirname(os.path.abspath(\"__file__\")))\n",
    "output_file = os.path.join(base_dir, 'data', 'lagerstatus.csv')\n",
    "\n",
    "print(f\"Läser in fil från: {output_file}\")\n",
    "\n",
    "\n",
    "df = pd.read_csv(output_file)\n",
    "\n",
    "df.info()"
   ]
  }
 ],
 "metadata": {
  "kernelspec": {
   "display_name": "Python 3",
   "language": "python",
   "name": "python3"
  },
  "language_info": {
   "codemirror_mode": {
    "name": "ipython",
    "version": 3
   },
   "file_extension": ".py",
   "mimetype": "text/x-python",
   "name": "python",
   "nbconvert_exporter": "python",
   "pygments_lexer": "ipython3",
   "version": "3.11.9"
  }
 },
 "nbformat": 4,
 "nbformat_minor": 2
}
